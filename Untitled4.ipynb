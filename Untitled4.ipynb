{
  "cells": [
    {
      "cell_type": "markdown",
      "metadata": {
        "id": "view-in-github",
        "colab_type": "text"
      },
      "source": [
        "<a href=\"https://colab.research.google.com/github/senaa-a/library-management-system/blob/main/Untitled4.ipynb\" target=\"_parent\"><img src=\"https://colab.research.google.com/assets/colab-badge.svg\" alt=\"Open In Colab\"/></a>"
      ]
    },
    {
      "cell_type": "code",
      "execution_count": null,
      "metadata": {
        "colab": {
          "background_save": true,
          "base_uri": "https://localhost:8080/"
        },
        "id": "51wUlZFZGm61",
        "outputId": "1bb2782e-a1fa-45ca-f9a1-bdc80ebd8c4b"
      },
      "outputs": [
        {
          "name": "stdout",
          "output_type": "stream",
          "text": [
            "*** MENU ***\n",
            "1) List Books\n",
            "2) Add Book\n",
            "3) Remove Book\n"
          ]
        }
      ],
      "source": [
        "\n",
        "class Library:\n",
        "    def __init__(self):\n",
        "        self.file = open(\"books.txt\", \"a+\")\n",
        "\n",
        "    def __del__(self):\n",
        "        self.file.close()\n",
        "\n",
        "    def list_books(self):\n",
        "        self.file.seek(0)\n",
        "        books = self.file.read().splitlines()\n",
        "        for book in books:\n",
        "            book_info = book.split(',')\n",
        "            print(\"Title:\", book_info[0])\n",
        "            print(\"Author:\", book_info[1])\n",
        "            print(\"Release Date:\", book_info[2])\n",
        "            print(\"Number of Pages:\", book_info[3])\n",
        "            print()\n",
        "\n",
        "    def add_book(self):\n",
        "        title = input(\"Enter book title: \")\n",
        "        author = input(\"Enter book author: \")\n",
        "        release_date = input(\"Enter release date: \")\n",
        "        num_pages = input(\"Enter number of pages: \")\n",
        "        book_info = f\"{title},{author},{release_date},{num_pages}\\n\"\n",
        "        self.file.write(book_info)\n",
        "        print(\"Book added successfully.\")\n",
        "\n",
        "    def remove_book(self):\n",
        "        title = input(\"Enter the title of the book to remove: \")\n",
        "        self.file.seek(0)\n",
        "        books = self.file.readlines()\n",
        "        self.file.seek(0)\n",
        "        self.file.truncate()\n",
        "        for book in books:\n",
        "            if title not in book:\n",
        "                self.file.write(book)\n",
        "        print(\"Book removed successfully.\")\n",
        "\n",
        "\n",
        "lib = Library()\n",
        "\n",
        "print(\"*** MENU ***\")\n",
        "print(\"1) List Books\")\n",
        "print(\"2) Add Book\")\n",
        "print(\"3) Remove Book\")\n",
        "\n",
        "choice = input(\"Enter your choice: \")\n",
        "\n",
        "if choice == '1':\n",
        "    lib.list_books()\n",
        "elif choice == '2':\n",
        "    lib.add_book()\n",
        "elif choice == '3':\n",
        "    lib.remove_book()\n",
        "else:\n",
        "    print(\"Invalid choice.\")"
      ]
    }
  ],
  "metadata": {
    "colab": {
      "provenance": [],
      "authorship_tag": "ABX9TyOxVWIRxJoi4tsrAwJHAJzV",
      "include_colab_link": true
    },
    "kernelspec": {
      "display_name": "Python 3",
      "name": "python3"
    },
    "language_info": {
      "name": "python"
    }
  },
  "nbformat": 4,
  "nbformat_minor": 0
}